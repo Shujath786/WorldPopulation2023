{
 "cells": [
  {
   "cell_type": "code",
   "execution_count": null,
   "metadata": {},
   "outputs": [],
   "source": [
    "# Uncomment the pip install code below if you haven't installed these libraries yet\n",
    "#!pip install pandas\n",
    "#!pip install zipfile\n",
    "#!pip install kaggle\n",
    "%pip install openpyxl \n",
    "# import the pandas library\n",
    "import pandas as pd\n",
    "\n",
    "# import zipfile library (we will use this to extract the file downloaded from Kaggle)\n",
    "import zipfile\n",
    "\n",
    "# import kaggle library (we will use this to download the dataset programatically from Kaggle)\n",
    "import kaggle"
   ]
  },
  {
   "cell_type": "code",
   "execution_count": null,
   "metadata": {},
   "outputs": [],
   "source": [
    "# download dataset from kaggle using the Kaggle API\n",
    "\n",
    "!kaggle datasets download -d bhavikjikadara/world-population-statistics-2023 \n"
   ]
  },
  {
   "cell_type": "code",
   "execution_count": null,
   "metadata": {},
   "outputs": [],
   "source": [
    "#extract the file from the downloaded zip file\n",
    "zipfile_name = 'world-population-statistics-2023.zip'\n",
    "with zipfile.ZipFile(zipfile_name, 'r') as file:\n",
    "    file.extractall()"
   ]
  },
  {
   "cell_type": "code",
   "execution_count": null,
   "metadata": {},
   "outputs": [],
   "source": [
    "#read in the csv as a pandas dataframe\n",
    "population = pd.read_csv(\"world_population_data.csv\")"
   ]
  },
  {
   "cell_type": "code",
   "execution_count": null,
   "metadata": {},
   "outputs": [],
   "source": [
    "#explore the data\n",
    "population.info()"
   ]
  },
  {
   "cell_type": "code",
   "execution_count": null,
   "metadata": {},
   "outputs": [],
   "source": [
    "population.shape"
   ]
  },
  {
   "cell_type": "code",
   "execution_count": null,
   "metadata": {},
   "outputs": [],
   "source": [
    "population"
   ]
  },
  {
   "cell_type": "code",
   "execution_count": null,
   "metadata": {},
   "outputs": [],
   "source": [
    "#specifying the column names that I want to use\n",
    "new_cols_dict ={\n",
    "    'rank':'Rank',\n",
    "    'cca3':'Country_Code',\n",
    "    'country': 'Country',\n",
    "    'continent': 'Continent',\n",
    "    '2023 population': '2023',\n",
    "    '2022 population': '2022',\n",
    "    '2020 population': '2020',\n",
    "    '2015 population': '2015',\n",
    "    '2010 population': '2010',\n",
    "    '2000 population': '2000',\n",
    "    '1990 population': '1990',\n",
    "    '1980 population': '1980',\n",
    "    '1970 population': '1970',\n",
    "    'area (km²)' : 'Area',\n",
    "    'density (km²)' : 'Density',\n",
    "    'growth rate': 'GrowthRate',\n",
    "    'world percentage': 'Percentage_Of_WorldPopulation'\n",
    "    \n",
    "}\n",
    "\n",
    "#Renaming the columns to the specified column names\n",
    "population.rename(new_cols_dict, axis=1, inplace=True) "
   ]
  },
  {
   "cell_type": "code",
   "execution_count": null,
   "metadata": {},
   "outputs": [],
   "source": [
    "#Change the cell values to a more readable, separated by comma values\n",
    "\n",
    "population['2023'] = population.apply(lambda x: \"{:,}\".format(x['2023']), axis=1)\n",
    "population['2022'] = population.apply(lambda x: \"{:,}\".format(x['2022']), axis=1)\n",
    "population['2020'] = population.apply(lambda x: \"{:,}\".format(x['2020']), axis=1)\n",
    "population['2015'] = population.apply(lambda x: \"{:,}\".format(x['2015']), axis=1)\n",
    "population['2010'] = population.apply(lambda x: \"{:,}\".format(x['2010']), axis=1)\n",
    "population['2000'] = population.apply(lambda x: \"{:,}\".format(x['2000']), axis=1)\n",
    "population['1990'] = population.apply(lambda x: \"{:,}\".format(x['1990']), axis=1)\n",
    "population['1980'] = population.apply(lambda x: \"{:,}\".format(x['1980']), axis=1)\n",
    "population['1970'] = population.apply(lambda x: \"{:,}\".format(x['1970']), axis=1)\n",
    "population['Area'] = population.apply(lambda x: \"{:,}\".format(x['Area']), axis=1)"
   ]
  },
  {
   "cell_type": "code",
   "execution_count": null,
   "metadata": {},
   "outputs": [],
   "source": [
    "#population.rename(columns={'density (km²)' : 'Density',}, inplace=True)"
   ]
  },
  {
   "cell_type": "code",
   "execution_count": null,
   "metadata": {},
   "outputs": [],
   "source": [
    "population.head()"
   ]
  },
  {
   "cell_type": "code",
   "execution_count": 77,
   "metadata": {},
   "outputs": [],
   "source": [
    "population.to_excel('population_2023_final.xlsx', sheet_name='Data')"
   ]
  }
 ],
 "metadata": {
  "kernelspec": {
   "display_name": "Python 3.8.10 64-bit",
   "language": "python",
   "name": "python3"
  },
  "language_info": {
   "codemirror_mode": {
    "name": "ipython",
    "version": 3
   },
   "file_extension": ".py",
   "mimetype": "text/x-python",
   "name": "python",
   "nbconvert_exporter": "python",
   "pygments_lexer": "ipython3",
   "version": "3.8.10"
  },
  "orig_nbformat": 4,
  "vscode": {
   "interpreter": {
    "hash": "db332d97bce9bb865d4d1e1a989f906652af16195c90662bf8ee36eccdb1bc02"
   }
  }
 },
 "nbformat": 4,
 "nbformat_minor": 2
}
